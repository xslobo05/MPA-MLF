{
  "nbformat": 4,
  "nbformat_minor": 0,
  "metadata": {
    "colab": {
      "provenance": [],
      "authorship_tag": "ABX9TyN1/ljIsHi2626Vm++C8cxt",
      "include_colab_link": true
    },
    "kernelspec": {
      "name": "python3",
      "display_name": "Python 3"
    },
    "language_info": {
      "name": "python"
    }
  },
  "cells": [
    {
      "cell_type": "markdown",
      "metadata": {
        "id": "view-in-github",
        "colab_type": "text"
      },
      "source": [
        "<a href=\"https://colab.research.google.com/github/xslobo05/MPA-MLF/blob/main/Lab_02_task.ipynb\" target=\"_parent\"><img src=\"https://colab.research.google.com/assets/colab-badge.svg\" alt=\"Open In Colab\"/></a>"
      ]
    },
    {
      "cell_type": "markdown",
      "source": [
        "Excersise 1"
      ],
      "metadata": {
        "id": "csWXZtpsEEzO"
      }
    },
    {
      "cell_type": "code",
      "execution_count": 1,
      "metadata": {
        "colab": {
          "base_uri": "https://localhost:8080/",
          "height": 649
        },
        "id": "ryl-Yv7TD4xY",
        "outputId": "b7de1b3a-bccb-456c-acbd-72bd83ab6c78"
      },
      "outputs": [
        {
          "output_type": "stream",
          "name": "stdout",
          "text": [
            "[[7.64920772 7.48502209]\n",
            " [       nan        nan]\n",
            " [       nan        nan]]\n"
          ]
        },
        {
          "output_type": "stream",
          "name": "stderr",
          "text": [
            "/usr/local/lib/python3.8/dist-packages/numpy/core/fromnumeric.py:3440: RuntimeWarning: Mean of empty slice.\n",
            "  return _methods._mean(a, axis=axis, dtype=dtype,\n",
            "/usr/local/lib/python3.8/dist-packages/numpy/core/_methods.py:181: RuntimeWarning: invalid value encountered in true_divide\n",
            "  ret = um.true_divide(\n"
          ]
        },
        {
          "output_type": "execute_result",
          "data": {
            "text/plain": [
              "<matplotlib.collections.PathCollection at 0x7f3f1c13b3d0>"
            ]
          },
          "metadata": {},
          "execution_count": 1
        },
        {
          "output_type": "display_data",
          "data": {
            "text/plain": [
              "<Figure size 432x288 with 1 Axes>"
            ],
            "image/png": "[encoded data removed]"
          },
          "metadata": {
            "needs_background": "light"
          }
        },
        {
          "output_type": "display_data",
          "data": {
            "text/plain": [
              "<Figure size 432x288 with 1 Axes>"
            ],
            "image/png": "[encoded data removed]"
          },
          "metadata": {
            "needs_background": "light"
          }
        }
      ],
      "source": [
        "import matplotlib.pyplot as plt\n",
        "import copy\n",
        "import numpy as np\n",
        "\n",
        "# fuction for generating points\n",
        "\n",
        "def split_points(points: np.array, n_of_point_groups: int) -> np.array:\n",
        "    changed_points = copy.copy(points)\n",
        "    index = np.arange(len(points))\n",
        "    groups_index = np.split(index, n_of_point_groups)\n",
        "    \n",
        "    for id_group,group_index in enumerate(groups_index):\n",
        "        changed_points[group_index] = points[group_index] + 5*id_group\n",
        "    \n",
        "    return changed_points\n",
        "\n",
        "# generate points\n",
        "\n",
        "n_of_points = 60\n",
        "points = np.random.rand(n_of_points,2) * 5 \n",
        "points = split_points(points, 3)\n",
        "\n",
        "plt.figure()\n",
        "plt.scatter(points[:,0],points[:,1])\n",
        "\n",
        "# specify number of clusters\n",
        "\n",
        "k = 3\n",
        "\n",
        "# initialize centroids\n",
        "\n",
        "def initialize_clusters(points: np.array, k_clusters: int) -> np.array:\n",
        "    vector_with_all_ind = np.arange(points.shape[0])\n",
        "    vector_with_all_ind = np.random.permutation(vector_with_all_ind)\n",
        "    \n",
        "    return vector_with_all_ind[:k_clusters]\n",
        "\n",
        "#init_clusters = initialize_clusters(points, k)\n",
        "\n",
        "# calculate distance from centroids to to all points in dataset\n",
        "\n",
        "# function to calculate distance from one centroid to all points\n",
        "def calculate_metric(points: np.array, centroid: np.array) -> np.array:\n",
        "   return np.square(np.linalg.norm(points - centroid, axis = 1))\n",
        "\n",
        "# function to calculate all distances\n",
        "def compute_distances(points: np.array, centroids_points: np.array) -> np.array:\n",
        "   return np.asarray([calculate_metric(points,centroid) for centroid in centroids_points])\n",
        "\n",
        "# function to assign to closest centroids\n",
        "def assign_centroids(distances: np.array) -> np.array:\n",
        "    \n",
        "    return np.argmin(distances,axis=0)\n",
        "\n",
        "#test = compute_distances(points,init_clusters)\n",
        "#print(test)\n",
        "#cluster_belongs = assign_centroids(compute_distances(points,init_clusters))\n",
        "#print(cluster_belongs)\n",
        "\n",
        "# calculate objective function J\n",
        "\n",
        "def calculate_objective(cluster_belongs: np.array, distances: np.array) -> np.array:\n",
        "    distances = distances.T\n",
        "    sel_min = distances[np.arange(len(distances)),cluster_belongs]\n",
        "    return np.sum(sel_min)\n",
        "\n",
        "#j = calculate_objective(cluster_belongs, compute_distances(points,init_clusters))\n",
        "#print(j)\n",
        "\n",
        "# compute new centroids\n",
        "\n",
        "def calculate_new_centroids(points: np.array, clusters_belongs: np.array, n_of_clusters: int) -> np.array:\n",
        "    new_clusters = []\n",
        "    for cluster_id in range(n_of_clusters):\n",
        "      p = np.where(clusters_belongs == cluster_id)\n",
        "      #print(p)\n",
        "      points_sel = points[p]\n",
        "      new_clusters.append(np.mean(points_sel, axis=0))\n",
        "      \n",
        "    return np.array(new_clusters)\n",
        "\n",
        "# repeat\n",
        "\n",
        "def fit(points: np.array, n_of_centroids: int, n_of_iterations: int, error: float = 0.001) -> tuple:\n",
        "    centroid_points = initialize_clusters(points, n_of_centroids)\n",
        "    last_j = 10000\n",
        "    \n",
        "    for n in range(n_of_iterations):\n",
        "        distances = compute_distances(points, centroid_points)\n",
        "        cluster_belongs = np.argmin(distances,axis=0)\n",
        "\n",
        "        j = calculate_objective(cluster_belongs, distances)\n",
        "        if abs(last_j - j ) < error:\n",
        "          break\n",
        "\n",
        "        last_j = j\n",
        "        centroid_points = calculate_new_centroids(points, cluster_belongs, n_of_centroids)\n",
        "    \n",
        "    return centroid_points, last_j\n",
        "\n",
        "# complete run\n",
        "\n",
        "n_of_iterations = 100\n",
        "centroids,_ = fit(points, k, n_of_iterations)\n",
        "print(centroids)\n",
        "plt.figure()\n",
        "plt.scatter(points[:,0],points[:,1])\n",
        "plt.scatter(centroids[:,0].T,centroids[:,1].T)"
      ]
    }
  ]
}