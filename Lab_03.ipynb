{
  "nbformat": 4,
  "nbformat_minor": 0,
  "metadata": {
    "colab": {
      "provenance": [],
      "authorship_tag": "ABX9TyMzQDX4QRRlxCyQS+EugGzl",
      "include_colab_link": true
    },
    "kernelspec": {
      "name": "python3",
      "display_name": "Python 3"
    },
    "language_info": {
      "name": "python"
    }
  },
  "cells": [
    {
      "cell_type": "markdown",
      "metadata": {
        "id": "view-in-github",
        "colab_type": "text"
      },
      "source": [
        "<a href=\"https://colab.research.google.com/github/xslobo05/MPA-MLF/blob/main/Lab_03.ipynb\" target=\"_parent\"><img src=\"https://colab.research.google.com/assets/colab-badge.svg\" alt=\"Open In Colab\"/></a>"
      ]
    },
    {
      "cell_type": "markdown",
      "source": [
        "Load IRIS dataset, check contents"
      ],
      "metadata": {
        "id": "aRTuMIr0FwYm"
      }
    },
    {
      "cell_type": "code",
      "execution_count": 1,
      "metadata": {
        "colab": {
          "base_uri": "https://localhost:8080/"
        },
        "id": "7b_8hZIeFtSx",
        "outputId": "a05b1bf1-7022-4d9d-f8f4-96bf51c3596c"
      },
      "outputs": [
        {
          "output_type": "stream",
          "name": "stdout",
          "text": [
            "['sepal length (cm)', 'sepal width (cm)', 'petal length (cm)', 'petal width (cm)']\n",
            "[[5.1 3.5 1.4 0.2]\n",
            " [4.9 3.  1.4 0.2]\n",
            " [4.7 3.2 1.3 0.2]\n",
            " [4.6 3.1 1.5 0.2]\n",
            " [5.  3.6 1.4 0.2]]\n",
            "[0 0 0 0 0]\n"
          ]
        }
      ],
      "source": [
        "from sklearn.datasets import load_iris\n",
        "iris=load_iris()\n",
        "iris.feature_names\n",
        "print(iris.feature_names)\n",
        "print(iris.data[0:5,:])\n",
        "print(iris.target[0:5])"
      ]
    },
    {
      "cell_type": "markdown",
      "source": [
        "Split data into training and testing parts"
      ],
      "metadata": {
        "id": "2hiH74jtGCNn"
      }
    },
    {
      "cell_type": "code",
      "source": [
        "from sklearn.model_selection import train_test_split\n",
        "X=iris.data\n",
        "y=iris.target\n",
        "X_train, X_test, y_train, y_test = train_test_split(X,y,test_size=0.2)\n",
        "print(X_train.shape)\n",
        "print(X_test.shape)"
      ],
      "metadata": {
        "colab": {
          "base_uri": "https://localhost:8080/"
        },
        "id": "eJ2_KjYXGFkl",
        "outputId": "3059041f-e6a5-452b-a69b-3f2463f89582"
      },
      "execution_count": 26,
      "outputs": [
        {
          "output_type": "stream",
          "name": "stdout",
          "text": [
            "(120, 4)\n",
            "(30, 4)\n"
          ]
        }
      ]
    },
    {
      "cell_type": "markdown",
      "source": [
        "Use a support vector machine for classification"
      ],
      "metadata": {
        "id": "Zw5EM78DGJO8"
      }
    },
    {
      "cell_type": "code",
      "source": [
        "from sklearn.svm import SVC\n",
        "SVMmodel=SVC(kernel='linear')\n",
        "SVMmodel.fit(X_train,y_train)\n",
        "SVMmodel.score(X_test,y_test)"
      ],
      "metadata": {
        "colab": {
          "base_uri": "https://localhost:8080/"
        },
        "id": "pYgF8RaDGONM",
        "outputId": "457d1774-0b95-4e4f-8e96-85d593bb7ef6"
      },
      "execution_count": 3,
      "outputs": [
        {
          "output_type": "execute_result",
          "data": {
            "text/plain": [
              "0.9333333333333333"
            ]
          },
          "metadata": {},
          "execution_count": 3
        }
      ]
    },
    {
      "cell_type": "code",
      "source": [
        "SVMmodel.get_params()"
      ],
      "metadata": {
        "colab": {
          "base_uri": "https://localhost:8080/"
        },
        "id": "SN8b8JSNLUZB",
        "outputId": "385e96ce-4d5e-4e82-972e-72e29d23ca9d"
      },
      "execution_count": 9,
      "outputs": [
        {
          "output_type": "execute_result",
          "data": {
            "text/plain": [
              "{'C': 1.0,\n",
              " 'break_ties': False,\n",
              " 'cache_size': 200,\n",
              " 'class_weight': None,\n",
              " 'coef0': 0.0,\n",
              " 'decision_function_shape': 'ovr',\n",
              " 'degree': 3,\n",
              " 'gamma': 'scale',\n",
              " 'kernel': 'linear',\n",
              " 'max_iter': -1,\n",
              " 'probability': False,\n",
              " 'random_state': None,\n",
              " 'shrinking': True,\n",
              " 'tol': 0.001,\n",
              " 'verbose': False}"
            ]
          },
          "metadata": {},
          "execution_count": 9
        }
      ]
    },
    {
      "cell_type": "markdown",
      "source": [
        "Exploring:\n",
        "\n",
        "\n",
        "*   Choose only first two features of iris.data\n",
        "*   SVM is in its basic form a 2-class classifier, so eliminate iris.target =2 from the data\n",
        "\n"
      ],
      "metadata": {
        "id": "0TDZ3m8aGXGD"
      }
    },
    {
      "cell_type": "code",
      "source": [
        "from sklearn.model_selection import train_test_split\n",
        "Xr=iris.data[iris.target!=2,0:2]\n",
        "yr=iris.target[iris.target!=2]\n",
        "X_trainr, X_testr, y_trainr, y_testr = train_test_split(Xr,yr,test_size=0.2)\n",
        "print(X_trainr.shape)\n",
        "print(X_testr.shape)"
      ],
      "metadata": {
        "colab": {
          "base_uri": "https://localhost:8080/"
        },
        "id": "odYIlr7dGs_I",
        "outputId": "fc5ea0a1-b877-4df1-9f7a-c424313cb956"
      },
      "execution_count": 28,
      "outputs": [
        {
          "output_type": "stream",
          "name": "stdout",
          "text": [
            "(80, 2)\n",
            "(20, 2)\n"
          ]
        }
      ]
    },
    {
      "cell_type": "markdown",
      "source": [
        "Plot scatterplots of targets 0 and 1 and check the separability of the classes:"
      ],
      "metadata": {
        "id": "yvPXL1HdGtod"
      }
    },
    {
      "cell_type": "code",
      "source": [
        "import matplotlib.pyplot as plt\n",
        "\n",
        "plt.scatter(X[y==0,0],X[y==0,1],color='green')\n",
        "plt.scatter(X[y==1,0],X[y==1,1],color='red')\n",
        "plt.scatter(X[y==2,0],X[y==2,1],color='blue')\n",
        "\n",
        "plt.figure()\n",
        "plt.scatter(Xr[yr==0,0],Xr[yr==0,1],color='green')\n",
        "plt.scatter(Xr[yr==1,0],Xr[yr==1,1],color='red')\n",
        "plt.scatter(Xr[yr==2,0],Xr[yr==2,1],color='blue')"
      ],
      "metadata": {
        "colab": {
          "base_uri": "https://localhost:8080/",
          "height": 536
        },
        "id": "tGAj6u8sGv7P",
        "outputId": "72d8c65d-6385-41fc-c64b-135347e1cab6"
      },
      "execution_count": 17,
      "outputs": [
        {
          "output_type": "execute_result",
          "data": {
            "text/plain": [
              "<matplotlib.collections.PathCollection at 0x7fd56b0e86a0>"
            ]
          },
          "metadata": {},
          "execution_count": 17
        },
        {
          "output_type": "display_data",
          "data": {
            "text/plain": [
              "<Figure size 432x288 with 1 Axes>"
            ],
            "image/png": "[encoded data removed]"
          },
          "metadata": {
            "needs_background": "light"
          }
        },
        {
          "output_type": "display_data",
          "data": {
            "text/plain": [
              "<Figure size 432x288 with 1 Axes>"
            ],
            "image/png": "[encoded data removed]"
          },
          "metadata": {
            "needs_background": "light"
          }
        }
      ]
    },
    {
      "cell_type": "markdown",
      "source": [
        "Train and test the SVM classifier, play with regularization parameter C (either use the default value or try e.g. 200)"
      ],
      "metadata": {
        "id": "smACtnNlGzWg"
      }
    },
    {
      "cell_type": "code",
      "source": [
        "SVMmodel1=SVC(kernel='linear')\n",
        "SVMmodel1.fit(X_train,y_train)\n",
        "SVMmodel1.score(X_test,y_test)\n",
        "\n",
        "SVMmodel2=SVC(kernel='linear')\n",
        "SVMmodel2.fit(X_trainr,y_trainr)\n",
        "SVMmodel2.score(X_testr,y_testr)\n",
        "\n",
        "SVMmodel200=SVC(C = 200.0, kernel='linear')\n",
        "SVMmodel200.fit(X_train,y_train)\n",
        "SVMmodel200.score(X_test,y_test)\n",
        "\n",
        "plt.scatter(Xr[yr==0,0],Xr[yr==0,1],color='green')\n",
        "plt.scatter(Xr[yr==1,0],Xr[yr==1,1],color='red')\n",
        "plt.scatter(Xr[yr==2,0],Xr[yr==2,1],color='blue')\n"
      ],
      "metadata": {
        "colab": {
          "base_uri": "https://localhost:8080/",
          "height": 285
        },
        "id": "YvF3bJXYG3In",
        "outputId": "c9d75f5c-2913-490a-da61-7f872e8ae68e"
      },
      "execution_count": 33,
      "outputs": [
        {
          "output_type": "execute_result",
          "data": {
            "text/plain": [
              "<matplotlib.collections.PathCollection at 0x7fd56ad935b0>"
            ]
          },
          "metadata": {},
          "execution_count": 33
        },
        {
          "output_type": "display_data",
          "data": {
            "text/plain": [
              "<Figure size 432x288 with 1 Axes>"
            ],
            "image/png": "[encoded data removed]"
          },
          "metadata": {
            "needs_background": "light"
          }
        }
      ]
    },
    {
      "cell_type": "markdown",
      "source": [
        "Show support vectors in the 2D plot, plot the decision line from equation [w0 w1]*[x0 x1] + b = 0:"
      ],
      "metadata": {
        "id": "H-UzeY74G4RE"
      }
    },
    {
      "cell_type": "code",
      "source": [
        "import numpy as np\n",
        "\n",
        "supvectors=SVMmodel2.support_vectors_\n",
        "# Plot the support vectors here\n",
        "print(supvectors)\n",
        "plt.scatter(Xr[yr==0,0],Xr[yr==0,1],color='green')\n",
        "plt.scatter(Xr[yr==1,0],Xr[yr==1,1],color='red')\n",
        "plt.scatter(supvectors[:,0],supvectors[:,1],color='black')\n",
        "\n",
        "#Separating line coefficients:\n",
        "W=SVMmodel2.coef_\n",
        "b=SVMmodel2.intercept_\n",
        "print(W)\n",
        "print(b)\n",
        "\n",
        "# line: w.x+b=0\n",
        "pointsX = np.linspace(min(Xr[:,0]),max(Xr[:,0]),100)\n",
        "pointsY = -(W[:,0]/W[:,1])*pointsX - (b/W[:,1])\n",
        "#print(W[0][0]/W[0][1])\n",
        "#print(pointsX)\n",
        "#print(pointsY)\n",
        "plt.scatter(pointsX, pointsY)\n"
      ],
      "metadata": {
        "colab": {
          "base_uri": "https://localhost:8080/",
          "height": 588
        },
        "id": "JU9QYsD9G8sC",
        "outputId": "1b6e2665-a148-435b-ff7c-750d7a3ddf01"
      },
      "execution_count": 57,
      "outputs": [
        {
          "output_type": "stream",
          "name": "stdout",
          "text": [
            "[[4.5 2.3]\n",
            " [4.8 3. ]\n",
            " [5.4 3.4]\n",
            " [5.2 3.4]\n",
            " [5.8 4. ]\n",
            " [5.5 3.5]\n",
            " [4.9 3.1]\n",
            " [4.8 3. ]\n",
            " [6.  3.4]\n",
            " [5.6 2.9]\n",
            " [5.4 3. ]\n",
            " [5.  2.3]\n",
            " [4.9 2.4]\n",
            " [5.6 3. ]\n",
            " [5.6 3. ]\n",
            " [5.1 2.5]]\n",
            "[[ 2.22228098 -2.22222814]]\n",
            "[-5.0002831]\n"
          ]
        },
        {
          "output_type": "execute_result",
          "data": {
            "text/plain": [
              "<matplotlib.collections.PathCollection at 0x7fd56203b610>"
            ]
          },
          "metadata": {},
          "execution_count": 57
        },
        {
          "output_type": "display_data",
          "data": {
            "text/plain": [
              "<Figure size 432x288 with 1 Axes>"
            ],
            "image/png": "[encoded data removed]"
          },
          "metadata": {
            "needs_background": "light"
          }
        }
      ]
    },
    {
      "cell_type": "markdown",
      "source": [
        "# Anomaly detection via SVM\n",
        "\n",
        "Import one-class SVM and generate data (Gaussian blobs in 2D-plane):"
      ],
      "metadata": {
        "id": "FyNqx8pSIa9Y"
      }
    },
    {
      "cell_type": "code",
      "source": [
        "from sklearn.svm import OneClassSVM\n",
        "from sklearn.datasets import make_blobs\n",
        "from numpy import quantile, where, random\n",
        "\n",
        "random.seed(11)\n",
        "x, _ = make_blobs(n_samples=300, centers=1, cluster_std=.3, center_box=(4, 4))\n",
        "\n",
        "plt.scatter(x[:,0], x[:,1])\n",
        "plt.show()"
      ],
      "metadata": {
        "colab": {
          "base_uri": "https://localhost:8080/",
          "height": 265
        },
        "id": "A4AL61qeIly3",
        "outputId": "4a93dc3a-9735-4097-c6d3-615f9b30f9f0"
      },
      "execution_count": 6,
      "outputs": [
        {
          "output_type": "display_data",
          "data": {
            "text/plain": [
              "<Figure size 432x288 with 1 Axes>"
            ],
            "image/png": "[encoded data removed]"
          },
          "metadata": {
            "needs_background": "light"
          }
        }
      ]
    },
    {
      "cell_type": "markdown",
      "source": [
        "Train one-class SVM and plot the outliers (outputs of prediction being equal to -1)"
      ],
      "metadata": {
        "id": "SiDUtdKYIoog"
      }
    },
    {
      "cell_type": "code",
      "source": [
        "SVMmodelOne = OneClassSVM(kernel='rbf', gamma=0.001, nu=0.03)\n",
        "\n",
        "\n",
        "SVMmodelOne.fit(x)\n",
        "pred = SVMmodelOne.predict(x)\n",
        "anom_index = where(pred==-1)\n",
        "values = x[anom_index]\n",
        "\n",
        "plt.scatter(x[:,0], x[:,1])\n",
        "plt.scatter(values[:,0], values[:,1], color='red')\n",
        "plt.axis('equal')\n",
        "plt.show()"
      ],
      "metadata": {
        "colab": {
          "base_uri": "https://localhost:8080/",
          "height": 265
        },
        "id": "kFVsILZzIr4-",
        "outputId": "0e07d107-ba21-4e2f-c5dc-e2c54c99d4c9"
      },
      "execution_count": 50,
      "outputs": [
        {
          "output_type": "display_data",
          "data": {
            "text/plain": [
              "<Figure size 432x288 with 1 Axes>"
            ],
            "image/png": "[encoded data removed]"
          },
          "metadata": {
            "needs_background": "light"
          }
        }
      ]
    },
    {
      "cell_type": "markdown",
      "source": [
        "Plot the support vectors:"
      ],
      "metadata": {
        "id": "eaGBULciIyXp"
      }
    },
    {
      "cell_type": "code",
      "source": [
        "supvectors = SVMmodelOne.support_vectors_\n",
        "plt.scatter(x[:,0], x[:,1])\n",
        "plt.scatter(supvectors[:,0], supvectors[:,1], color='red')"
      ],
      "metadata": {
        "colab": {
          "base_uri": "https://localhost:8080/",
          "height": 282
        },
        "id": "29sjZNmfIy5l",
        "outputId": "7504e8c2-7890-44b2-ce49-099d2e0b7fd0"
      },
      "execution_count": 52,
      "outputs": [
        {
          "output_type": "execute_result",
          "data": {
            "text/plain": [
              "<matplotlib.collections.PathCollection at 0x7fd5624133d0>"
            ]
          },
          "metadata": {},
          "execution_count": 52
        },
        {
          "output_type": "display_data",
          "data": {
            "text/plain": [
              "<Figure size 432x288 with 1 Axes>"
            ],
            "image/png": "[encoded data removed]"
          },
          "metadata": {
            "needs_background": "light"
          }
        }
      ]
    },
    {
      "cell_type": "markdown",
      "source": [
        "What if we want to have a control what is outlier? Use e.g. 5% \"quantile\" to mark the outliers. Every point with lower score than threshold will be an outlier."
      ],
      "metadata": {
        "id": "x8tpCHMWIz-y"
      }
    },
    {
      "cell_type": "code",
      "source": [
        "scores = SVMmodelOne.score_samples(x)\n",
        "\n",
        "thresh = quantile(scores, 0.01)\n",
        "print(thresh)\n",
        "index = where(scores<=thresh)\n",
        "values = x[index]\n",
        "\n",
        "plt.scatter(x[:,0], x[:,1])\n",
        "plt.scatter(values[:,0], values[:,1], color='red')\n",
        "plt.axis('equal')\n",
        "plt.show()"
      ],
      "metadata": {
        "colab": {
          "base_uri": "https://localhost:8080/",
          "height": 282
        },
        "id": "EMQBAmTDI2zJ",
        "outputId": "e4b071d3-0166-43ef-ea49-4180a81c24e3"
      },
      "execution_count": 8,
      "outputs": [
        {
          "output_type": "stream",
          "name": "stdout",
          "text": [
            "8.987833799021839\n"
          ]
        },
        {
          "output_type": "display_data",
          "data": {
            "text/plain": [
              "<Figure size 432x288 with 1 Axes>"
            ],
            "image/png": "[encoded data removed]"
          },
          "metadata": {
            "needs_background": "light"
          }
        }
      ]
    }
  ]
}